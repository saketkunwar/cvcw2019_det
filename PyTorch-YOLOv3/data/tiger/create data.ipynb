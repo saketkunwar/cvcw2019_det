{
 "cells": [
  {
   "cell_type": "code",
   "execution_count": 20,
   "metadata": {},
   "outputs": [],
   "source": [
    "import pandas as pd\n",
    "import numpy as np\n",
    "import json\n",
    "from pycocotools.coco import COCO\n",
    "from skimage import io"
   ]
  },
  {
   "cell_type": "code",
   "execution_count": 5,
   "metadata": {},
   "outputs": [
    {
     "name": "stdout",
     "output_type": "stream",
     "text": [
      "loading annotations into memory...\n",
      "Done (t=0.08s)\n",
      "creating index...\n",
      "index created!\n"
     ]
    }
   ],
   "source": [
    "train = COCO('/media/saket/014178da-fdf2-462c-b901-d5f4dbce2e275/tiger/det/tiger_train.json')   "
   ]
  },
  {
   "cell_type": "code",
   "execution_count": 12,
   "metadata": {},
   "outputs": [],
   "source": [
    "f=open('train.txt','w')\n",
    "ids=train.getImgIds()\n",
    "id_to_fname={k:train.imgs[k]['file_name'] for k in train.imgs.keys()} \n",
    "ww=1920\n",
    "hh=1080"
   ]
  },
  {
   "cell_type": "code",
   "execution_count": 14,
   "metadata": {},
   "outputs": [],
   "source": [
    "for id in ids: \n",
    "    data=[] \n",
    "    a=train.getAnnIds(id) \n",
    "    filename='labels/'+id_to_fname[id].replace('.jpg','.txt') \n",
    "    print('data/tiger/images/'+id_to_fname[id],file=f) \n",
    "    for item in a: \n",
    "        cls=[0] \n",
    "        bbox=train.anns[item]['bbox'] \n",
    "        x1,y1,w,h=bbox \n",
    "        x2,y2=x1+w,y1+h\n",
    "        cx,cy=(x1+x2)/2,(y1+y2)/2 \n",
    "        cx,cy,w,h=cx/ww,cy/hh,w/ww,h/hh \n",
    "        cls.extend([cx,cy,w,h]) \n",
    "        data.append(cls) \n",
    "        df = pd.DataFrame(data) \n",
    "        df.to_csv(filename,header=None,index=False,sep=' ')                  \n"
   ]
  },
  {
   "cell_type": "code",
   "execution_count": 15,
   "metadata": {},
   "outputs": [],
   "source": [
    "f.close()"
   ]
  },
  {
   "cell_type": "code",
   "execution_count": 16,
   "metadata": {},
   "outputs": [
    {
     "name": "stdout",
     "output_type": "stream",
     "text": [
      "loading annotations into memory...\n",
      "Done (t=0.30s)\n",
      "creating index...\n",
      "index created!\n"
     ]
    }
   ],
   "source": [
    "val = COCO('/media/saket/014178da-fdf2-462c-b901-d5f4dbce2e275/tiger/det/tiger_val.json')   \n",
    "f=open('val.txt','w')\n",
    "ids=val.getImgIds()\n",
    "id_to_fname={k:val.imgs[k]['file_name'] for k in val.imgs.keys()} \n",
    "ww=1920\n",
    "hh=1080\n",
    "for id in ids: \n",
    "    data=[] \n",
    "    a=val.getAnnIds(id) \n",
    "    filename='labels/'+id_to_fname[id].replace('.jpg','.txt') \n",
    "    print('data/tiger/images/'+id_to_fname[id],file=f) \n",
    "    for item in a: \n",
    "        cls=[0] \n",
    "        bbox=val.anns[item]['bbox'] \n",
    "        x1,y1,w,h=bbox \n",
    "        x2,y2=x1+w,y1+h\n",
    "        cx,cy=(x1+x2)/2,(y1+y2)/2 \n",
    "        cx,cy,w,h=cx/ww,cy/hh,w/ww,h/hh \n",
    "        cls.extend([cx,cy,w,h]) \n",
    "        data.append(cls) \n",
    "        df = pd.DataFrame(data) \n",
    "        df.to_csv(filename,header=None,index=False,sep=' ')                  \n",
    "f.close()"
   ]
  },
  {
   "cell_type": "code",
   "execution_count": 18,
   "metadata": {},
   "outputs": [],
   "source": [
    "import torch"
   ]
  },
  {
   "cell_type": "code",
   "execution_count": 56,
   "metadata": {},
   "outputs": [
    {
     "data": {
      "text/plain": [
       "tensor([[0.0000, 0.2638, 0.4657, 0.3286, 0.3648]], dtype=torch.float64)"
      ]
     },
     "execution_count": 56,
     "metadata": {},
     "output_type": "execute_result"
    }
   ],
   "source": [
    "boxes = torch.from_numpy(np.loadtxt('./labels/0002.txt').reshape(-1, 5))\n",
    "boxes"
   ]
  },
  {
   "cell_type": "code",
   "execution_count": 37,
   "metadata": {},
   "outputs": [],
   "source": [
    "img=io.imread('images/0002.jpg')\n",
    "import sys\n",
    "sys.path.insert(0,'../../utils/')\n",
    "import utils\n",
    "import torch.nn.functional as F\n",
    "def pad_to_square(img, pad_value):\n",
    "    c, h, w = img.shape\n",
    "    dim_diff = np.abs(h - w)\n",
    "    # (upper / left) padding and (lower / right) padding\n",
    "    pad1, pad2 = dim_diff // 2, dim_diff - dim_diff // 2\n",
    "    # Determine padding\n",
    "    pad = (0, 0, pad1, pad2) if h <= w else (pad1, pad2, 0, 0)\n",
    "    # Add padding\n",
    "    img = F.pad(img, pad, \"constant\", value=pad_value)\n",
    "\n",
    "    return img, pad\n"
   ]
  },
  {
   "cell_type": "code",
   "execution_count": 48,
   "metadata": {},
   "outputs": [],
   "source": [
    "img  = torch.FloatTensor(np.transpose(img,(2,0,1)))\n",
    "_, h, w = img.shape\n",
    "h_factor, w_factor = (h, w) \n",
    "# Pad to square resolution\n",
    "img, pad = pad_to_square(img, 0)\n",
    "_, padded_h, padded_w = img.shape\n",
    "\n",
    "# ---------\n",
    "#  Label\n",
    "# ---------\n"
   ]
  },
  {
   "cell_type": "code",
   "execution_count": 49,
   "metadata": {
    "scrolled": true
   },
   "outputs": [
    {
     "data": {
      "text/plain": [
       "(1080, 1920)"
      ]
     },
     "execution_count": 49,
     "metadata": {},
     "output_type": "execute_result"
    }
   ],
   "source": [
    "h_factor, w_factor"
   ]
  },
  {
   "cell_type": "code",
   "execution_count": 58,
   "metadata": {},
   "outputs": [],
   "source": [
    "# Extract coordinates for unpadded + unscaled image\n",
    "x1 = w_factor * (boxes[:, 1] - boxes[:, 3] / 2)\n",
    "y1 = h_factor * (boxes[:, 2] - boxes[:, 4] / 2)\n",
    "x2 = w_factor * (boxes[:, 1] + boxes[:, 3] / 2)\n",
    "y2 = h_factor * (boxes[:, 2] + boxes[:, 4] / 2)\n",
    "# Adjust for added padding\n",
    "x1 += pad[0]\n",
    "y1 += pad[2]\n",
    "x2 += pad[1]\n",
    "y2 += pad[3]\n",
    "# Returns (x, y, w, h)\n",
    "boxes[:, 1] = ((x1 + x2) / 2) / padded_w\n",
    "boxes[:, 2] = ((y1 + y2) / 2) / padded_h\n",
    "boxes[:, 3] *= w_factor / padded_w\n",
    "boxes[:, 4] *= h_factor / padded_h\n",
    "\n",
    "targets = torch.zeros((len(boxes), 6))\n",
    "targets[:, 1:] = boxes"
   ]
  },
  {
   "cell_type": "code",
   "execution_count": 59,
   "metadata": {},
   "outputs": [
    {
     "data": {
      "text/plain": [
       "tensor([[0.0000, 0.0000, 0.2638, 0.4807, 0.3286, 0.2052]])"
      ]
     },
     "execution_count": 59,
     "metadata": {},
     "output_type": "execute_result"
    }
   ],
   "source": [
    "targets"
   ]
  },
  {
   "cell_type": "code",
   "execution_count": 52,
   "metadata": {},
   "outputs": [
    {
     "data": {
      "text/plain": [
       "tensor([[0.0000, 0.2638, 0.4807, 0.3286, 0.2052]], dtype=torch.float64)"
      ]
     },
     "execution_count": 52,
     "metadata": {},
     "output_type": "execute_result"
    }
   ],
   "source": [
    "boxes"
   ]
  },
  {
   "cell_type": "code",
   "execution_count": 53,
   "metadata": {},
   "outputs": [
    {
     "data": {
      "text/plain": [
       "(0, 0, 420, 420)"
      ]
     },
     "execution_count": 53,
     "metadata": {},
     "output_type": "execute_result"
    }
   ],
   "source": [
    "pad\n"
   ]
  },
  {
   "cell_type": "code",
   "execution_count": 55,
   "metadata": {},
   "outputs": [
    {
     "data": {
      "text/plain": [
       "1920"
      ]
     },
     "execution_count": 55,
     "metadata": {},
     "output_type": "execute_result"
    }
   ],
   "source": [
    "1080+420+420"
   ]
  },
  {
   "cell_type": "code",
   "execution_count": 57,
   "metadata": {},
   "outputs": [
    {
     "data": {
      "text/plain": [
       "tensor([[0.0000, 0.2638, 0.4657, 0.3286, 0.3648]], dtype=torch.float64)"
      ]
     },
     "execution_count": 57,
     "metadata": {},
     "output_type": "execute_result"
    }
   ],
   "source": [
    "boxes"
   ]
  },
  {
   "cell_type": "code",
   "execution_count": null,
   "metadata": {},
   "outputs": [],
   "source": []
  }
 ],
 "metadata": {
  "kernelspec": {
   "display_name": "Python 3",
   "language": "python",
   "name": "python3"
  },
  "language_info": {
   "codemirror_mode": {
    "name": "ipython",
    "version": 3
   },
   "file_extension": ".py",
   "mimetype": "text/x-python",
   "name": "python",
   "nbconvert_exporter": "python",
   "pygments_lexer": "ipython3",
   "version": "3.6.8"
  }
 },
 "nbformat": 4,
 "nbformat_minor": 2
}
